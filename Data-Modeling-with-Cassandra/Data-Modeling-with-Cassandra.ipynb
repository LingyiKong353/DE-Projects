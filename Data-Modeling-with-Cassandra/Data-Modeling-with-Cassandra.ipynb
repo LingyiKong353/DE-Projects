{
 "cells": [
  {
   "cell_type": "markdown",
   "id": "a59fd672-aa9b-4ba3-a3a1-ca1dc9e3c577",
   "metadata": {},
   "source": [
    "# Part I. ETL Pipeline for Pre-Processing the Files"
   ]
  },
  {
   "cell_type": "markdown",
   "id": "bf15f070-09de-44ff-8cea-e2b5094ce76d",
   "metadata": {},
   "source": [
    "#### <font color='blue'>1.1 Import Python Package</font> "
   ]
  },
  {
   "cell_type": "code",
   "execution_count": 3,
   "id": "a3c0695f-a6c0-441c-81f3-728b1a637b53",
   "metadata": {},
   "outputs": [],
   "source": [
    "import pandas as pd\n",
    "import cassandra\n",
    "import re\n",
    "import os\n",
    "import glob\n",
    "import numpy as np\n",
    "import json\n",
    "import csv"
   ]
  },
  {
   "cell_type": "markdown",
   "id": "afd9a08b-947b-4a41-b5b3-91be0220f646",
   "metadata": {},
   "source": [
    "#### <font color='blue'>1.2 Creating list of filepaths to process original event csv data files</font> "
   ]
  },
  {
   "cell_type": "code",
   "execution_count": 5,
   "id": "edd6c188-af40-40bd-995e-33fd8c0033b5",
   "metadata": {},
   "outputs": [
    {
     "name": "stdout",
     "output_type": "stream",
     "text": [
      "D:\\Dropbox (Personal)\\Udacity\\Data Engineering with AWS\\project\\cassandra\n"
     ]
    }
   ],
   "source": [
    "# checking your current working directory\n",
    "print(os.getcwd())\n",
    "\n",
    "# Get your current folder and subfolder event data\n",
    "filepath = os.getcwd() + '/event_data'\n",
    "\n",
    "# Create a for loop to create a list of files and collect each filepath\n",
    "for root, dirs, files in os.walk(filepath):\n",
    "    \n",
    "# join the file path and roots with the subdirectories using glob\n",
    "    file_path_list = glob.glob(os.path.join(root,'*'))\n",
    "    #print(file_path_list)"
   ]
  },
  {
   "cell_type": "markdown",
   "id": "6c30f1e3-5b1c-47d7-9e39-9feadd7458bf",
   "metadata": {},
   "source": [
    "#### <font color='blue'>1.3 Processing the files to create the data file csv that will be used for Apache Casssandra tables</font> "
   ]
  },
  {
   "cell_type": "code",
   "execution_count": 7,
   "id": "8b800bdf-59c9-42ab-96a3-020e9d06afdf",
   "metadata": {},
   "outputs": [],
   "source": [
    "# initiating an empty list of rows that will be generated from each file\n",
    "full_data_rows_list = [] \n",
    "    \n",
    "# for every filepath in the file path list \n",
    "for f in file_path_list:\n",
    "\n",
    "# reading csv file \n",
    "    with open(f, 'r', encoding = 'utf8', newline='') as csvfile: \n",
    "        # creating a csv reader object \n",
    "        csvreader = csv.reader(csvfile) \n",
    "        next(csvreader)\n",
    "        \n",
    " # extracting each data row one by one and append it        \n",
    "        for line in csvreader:\n",
    "            #print(line)\n",
    "            full_data_rows_list.append(line) \n",
    "\n",
    "# creating a smaller event data csv file called event_datafile_full csv that will be used to insert data into the \\\n",
    "# Apache Cassandra tables\n",
    "csv.register_dialect('myDialect', quoting=csv.QUOTE_ALL, skipinitialspace=True)\n",
    "\n",
    "with open('event_datafile_new.csv', 'w', encoding = 'utf8', newline='') as f:\n",
    "    writer = csv.writer(f, dialect='myDialect')\n",
    "    writer.writerow(['artist','firstName','gender','itemInSession','lastName','length',\\\n",
    "                'level','location','sessionId','song','userId'])\n",
    "    for row in full_data_rows_list:\n",
    "        if (row[0] == ''):\n",
    "            continue\n",
    "        writer.writerow((row[0], row[2], row[3], row[4], row[5], row[6], row[7], row[8], row[12], row[13], row[16]))"
   ]
  },
  {
   "cell_type": "code",
   "execution_count": 8,
   "id": "4484abc7-e2ba-4f79-a31f-8b9d5827ee2b",
   "metadata": {},
   "outputs": [
    {
     "name": "stdout",
     "output_type": "stream",
     "text": [
      "6821\n"
     ]
    }
   ],
   "source": [
    "# check the number of rows in your csv file\n",
    "with open('event_datafile_new.csv', 'r', encoding = 'utf8') as f:\n",
    "    print(sum(1 for line in f))"
   ]
  },
  {
   "cell_type": "markdown",
   "id": "8a435fb8-ad10-4199-8193-93464d6df05d",
   "metadata": {},
   "source": [
    "# Part II. Apache Cassandra"
   ]
  },
  {
   "cell_type": "markdown",
   "id": "722cf4ad-e916-4217-a9a9-1f07c17c8c86",
   "metadata": {},
   "source": [
    "The event_datafile_new.csv contains the following columns: \n",
    "- artist \n",
    "- firstName of user\n",
    "- gender of user\n",
    "- item number in session\n",
    "- last name of user\n",
    "- length of the song\n",
    "- level (paid or free song)\n",
    "- location of the user\n",
    "- sessionId\n",
    "- song title\n",
    "- userId\n",
    "  \n",
    "The image below is a screenshot of what the denormalized data should appear like in the <font color=red>**event_datafile_new.csv**</font> after the code above is run:<br>\n",
    "\n",
    "<img src=\"image_event_datafile_new.jpg\">"
   ]
  },
  {
   "cell_type": "markdown",
   "id": "09c799e0-242a-49ec-8333-1668f36e0f7c",
   "metadata": {},
   "source": [
    "#### <font color='blue'>2.1 Creating a Cluster</font> "
   ]
  },
  {
   "cell_type": "code",
   "execution_count": 12,
   "id": "0eeb9d49-ba2f-4298-945f-0e292d921b0c",
   "metadata": {},
   "outputs": [],
   "source": [
    "# Make a connection to a Cassandra instance in local machine \n",
    "from cassandra.cluster import Cluster\n",
    "cluster = Cluster([\"localhost\"], port=9042)\n",
    "\n",
    "# To establish connection and begin executing queries, need a session\n",
    "session = cluster.connect()"
   ]
  },
  {
   "cell_type": "markdown",
   "id": "9421a846-053f-4eeb-a35b-c8a0a6e111c9",
   "metadata": {},
   "source": [
    "#### <font color='blue'>2.2 Create Keyspace</font> "
   ]
  },
  {
   "cell_type": "code",
   "execution_count": 14,
   "id": "51576acc-d9a3-4188-8ec2-1f2dae125cae",
   "metadata": {},
   "outputs": [],
   "source": [
    "# Create a Keyspace\n",
    "session.execute(\n",
    "    \"\"\"\n",
    "    CREATE KEYSPACE IF NOT EXISTS cassandra\n",
    "    WITH REPLICATION = { 'class' : 'SimpleStrategy', 'replication_factor' : 1 }\n",
    "    \"\"\"\n",
    ");"
   ]
  },
  {
   "cell_type": "markdown",
   "id": "2aef81d1-2b54-438c-bd9f-8e0ccf988e87",
   "metadata": {},
   "source": [
    "#### <font color='blue'>2.3 Set Keyspace</font> "
   ]
  },
  {
   "cell_type": "code",
   "execution_count": 16,
   "id": "89ea3800-ea12-46a4-9fa1-c3914aee9ee0",
   "metadata": {},
   "outputs": [],
   "source": [
    "# Set KEYSPACE to the keyspace specified above\n",
    "try:\n",
    "    session.set_keyspace('cassandra')\n",
    "except Exception as e:\n",
    "    print(e)"
   ]
  },
  {
   "cell_type": "markdown",
   "id": "5eec7413-e1b5-4a7e-95f3-0400c2141569",
   "metadata": {},
   "source": [
    "### Now we need to create tables to run the following queries. With Apache Cassandra, we model the database tables on the queries we want to run."
   ]
  },
  {
   "cell_type": "markdown",
   "id": "397fd0a6-6d5c-4a2a-9d3d-d4878b320d95",
   "metadata": {},
   "source": [
    "#### Create queries to ask the following three questions of the data\n",
    "\n",
    "##### <font color='red'> 1. Give me the artist, song title and song's length in the music app history that was heard during  sessionId = 338, and itemInSession  = 4 </font> \n",
    "\n",
    "\n",
    "##### <font color='red'> 2. Give me only the following: name of artist, song (sorted by itemInSession) and user (first and last name) for userid = 10, sessionid = 182 </font> \n",
    "    \n",
    "\n",
    "##### <font color='red'> 3. Give me every user name (first and last) in my music app history who listened to the song 'All Hands Against His Own' </font> "
   ]
  },
  {
   "cell_type": "markdown",
   "id": "a67e5dac-1e63-4194-8b00-2b32d4158c39",
   "metadata": {},
   "source": [
    "#### <font color='blue'>2.4 Query Execution</font> "
   ]
  },
  {
   "cell_type": "markdown",
   "id": "6ead7d73-6769-4be3-81e0-97506dbe3e0c",
   "metadata": {},
   "source": [
    "#### <font color='blue'>Query 1: Give me the artist, song title and song's length in the music app history that was heard during sessionId = 338, and itemInSession = 4</font> \n",
    "\n",
    "The table will contain those columns:\n",
    "- **sessionId, itemInSession** as *partition keys* for filtering and to gurantee uniqueness.\n",
    "- *clustering columns*\n",
    "  - **artist**\n",
    "  - **song_name**\n",
    "  - **song_length**"
   ]
  },
  {
   "cell_type": "code",
   "execution_count": 21,
   "id": "30a32bcd-e444-40e0-804b-59c64e92ceaa",
   "metadata": {},
   "outputs": [],
   "source": [
    "#Query 1:  Give me the artist, song title and song's length in the music app history that was heard during \\\n",
    "## sessionId = 338, and itemInSession = 4\n",
    "query1 = \"SELECT artist, song_title, song_length FROM songs_by_session WHERE session_id = 338 AND item_in_session = 4\""
   ]
  },
  {
   "cell_type": "code",
   "execution_count": 22,
   "id": "3105ff64-5113-43ba-b8b8-faf965a8d02a",
   "metadata": {},
   "outputs": [],
   "source": [
    "#Create table for query 1\n",
    "session.execute(\n",
    "    \"\"\"\n",
    "    DROP TABLE IF EXISTS songs_by_user_session\n",
    "    \"\"\"\n",
    ");\n",
    "session.execute(\n",
    "    \"\"\"\n",
    "    CREATE TABLE IF NOT EXISTS songs_by_session\n",
    "    (session_id int, item_in_session int, artist varchar, song_title varchar,\n",
    "    song_length float,  PRIMARY KEY(session_id, item_in_session))\n",
    "    ;\"\"\"\n",
    ");"
   ]
  },
  {
   "cell_type": "code",
   "execution_count": 23,
   "id": "1f166523-56be-4d6b-8803-3cacb3fe0d45",
   "metadata": {},
   "outputs": [
    {
     "name": "stdout",
     "output_type": "stream",
     "text": [
      "artist 0\n",
      "firstName 1\n",
      "gender 2\n",
      "itemInSession 3\n",
      "lastName 4\n",
      "length 5\n",
      "level 6\n",
      "location 7\n",
      "sessionId 8\n",
      "song 9\n",
      "userId 10\n"
     ]
    }
   ],
   "source": [
    "#check column indexes for insertion\n",
    "file = 'event_datafile_new.csv'\n",
    "df = pd.read_csv(file)\n",
    "import pandas as pd\n",
    "for i, c in enumerate(pd.read_csv(file).columns):\n",
    "    print(c, i)"
   ]
  },
  {
   "cell_type": "code",
   "execution_count": 24,
   "id": "e7b2e551-6ea5-4c49-9533-75fd7549e4da",
   "metadata": {},
   "outputs": [],
   "source": [
    "# Insert into the Apache Cassandra \n",
    "with open(file, encoding=\"utf8\") as f:\n",
    "    csvreader = csv.reader(f)\n",
    "    next(csvreader)  # skip header\n",
    "    for line in csvreader:\n",
    "        query = \"INSERT INTO songs_by_session (session_id, item_in_session, artist, song_title, song_length) \"\n",
    "        query = query + \" VALUES (%s, %s, %s, %s, %s)\"\n",
    "        session.execute(\n",
    "            query, (int(line[8]), int(line[3]), line[0], line[9], float(line[5]))\n",
    "        )"
   ]
  },
  {
   "cell_type": "markdown",
   "id": "1c35e3d7-52e4-46bc-992b-f34c4e495432",
   "metadata": {},
   "source": [
    "##### **Do a SELECT to verify that the data have been inserted into each table**"
   ]
  },
  {
   "cell_type": "code",
   "execution_count": 26,
   "id": "d461794e-0678-4b97-892b-28a0623f40f2",
   "metadata": {},
   "outputs": [
    {
     "name": "stdout",
     "output_type": "stream",
     "text": [
      "Row(artist='Faithless', song_title='Music Matters (Mark Knight Dub)', song_length=495.30731201171875)\n"
     ]
    }
   ],
   "source": [
    "rows = session.execute(query1)\n",
    "for x in rows:\n",
    "    print(x)"
   ]
  },
  {
   "cell_type": "markdown",
   "id": "b4691c18-7380-4863-a574-7b594b9cd7b0",
   "metadata": {},
   "source": [
    "##### **Verify from the dataframe**"
   ]
  },
  {
   "cell_type": "code",
   "execution_count": 28,
   "id": "3131f9a8-6b66-4a30-be66-28b1509a6570",
   "metadata": {},
   "outputs": [
    {
     "data": {
      "text/html": [
       "<div>\n",
       "<style scoped>\n",
       "    .dataframe tbody tr th:only-of-type {\n",
       "        vertical-align: middle;\n",
       "    }\n",
       "\n",
       "    .dataframe tbody tr th {\n",
       "        vertical-align: top;\n",
       "    }\n",
       "\n",
       "    .dataframe thead th {\n",
       "        text-align: right;\n",
       "    }\n",
       "</style>\n",
       "<table border=\"1\" class=\"dataframe\">\n",
       "  <thead>\n",
       "    <tr style=\"text-align: right;\">\n",
       "      <th></th>\n",
       "      <th>artist</th>\n",
       "      <th>firstName</th>\n",
       "      <th>gender</th>\n",
       "      <th>itemInSession</th>\n",
       "      <th>lastName</th>\n",
       "      <th>length</th>\n",
       "      <th>level</th>\n",
       "      <th>location</th>\n",
       "      <th>sessionId</th>\n",
       "      <th>song</th>\n",
       "      <th>userId</th>\n",
       "    </tr>\n",
       "  </thead>\n",
       "  <tbody>\n",
       "    <tr>\n",
       "      <th>964</th>\n",
       "      <td>Faithless</td>\n",
       "      <td>Ava</td>\n",
       "      <td>F</td>\n",
       "      <td>4</td>\n",
       "      <td>Robinson</td>\n",
       "      <td>495.3073</td>\n",
       "      <td>free</td>\n",
       "      <td>New Haven-Milford, CT</td>\n",
       "      <td>338</td>\n",
       "      <td>Music Matters (Mark Knight Dub)</td>\n",
       "      <td>50</td>\n",
       "    </tr>\n",
       "  </tbody>\n",
       "</table>\n",
       "</div>"
      ],
      "text/plain": [
       "        artist firstName gender  itemInSession  lastName    length level  \\\n",
       "964  Faithless       Ava      F              4  Robinson  495.3073  free   \n",
       "\n",
       "                  location  sessionId                             song  userId  \n",
       "964  New Haven-Milford, CT        338  Music Matters (Mark Knight Dub)      50  "
      ]
     },
     "execution_count": 28,
     "metadata": {},
     "output_type": "execute_result"
    }
   ],
   "source": [
    "#verify\n",
    "df[(df.sessionId == 338) & (df.itemInSession == 4)]"
   ]
  },
  {
   "cell_type": "markdown",
   "id": "064fcf00-2258-4566-976e-f12292baad69",
   "metadata": {},
   "source": [
    "#### <font color='blue'>Query 2. Give me only the following: name of artist, song (sorted by itemInSession) and user (first and last name) for userid = 10, sessionid = 182</font> "
   ]
  },
  {
   "cell_type": "markdown",
   "id": "48247777-9ebe-4002-95ba-2f0e87b1c80b",
   "metadata": {},
   "source": [
    "The table will contain those columns:\n",
    "- **userID, sessionID** and also **itemInSession** as *composite partition keys* for sorting and to guarantee uniqueness.\n",
    "- *clustering columns*\n",
    "  - **artist**\n",
    "  - **song_name**\n",
    "  - **first_name**\n",
    "  - **last_name**"
   ]
  },
  {
   "cell_type": "code",
   "execution_count": 31,
   "id": "5004d3ee-af5c-4a96-834e-2209f960fe8f",
   "metadata": {},
   "outputs": [],
   "source": [
    "#Query 2:  Give me only the following: name of artist, song (sorted by itemInSession) and user (first and last name) for userid = 10, sessionid = 182\n",
    "query2 = \"SELECT artist, song_title, first_name, last_name FROM users_by_session WHERE userid = 10 AND sessionid = 182\""
   ]
  },
  {
   "cell_type": "code",
   "execution_count": 32,
   "id": "87f12f43-9dd6-43c8-89d3-397b7332718d",
   "metadata": {},
   "outputs": [],
   "source": [
    "#Create table for query 2\n",
    "session.execute(\n",
    "    \"\"\"\n",
    "    DROP TABLE IF EXISTS users_by_session\n",
    "    \"\"\"\n",
    ");\n",
    "session.execute(\n",
    "    \"\"\"\n",
    "    CREATE TABLE IF NOT EXISTS users_by_session\n",
    "    (userid int, sessionid int, item_in_session int, artist varchar, song_title varchar, first_name varchar, last_name varchar,\n",
    "    PRIMARY KEY ((userid, sessionid), item_in_session))\n",
    "    \"\"\"\n",
    ");"
   ]
  },
  {
   "cell_type": "code",
   "execution_count": 33,
   "id": "6ae243c1-e3e3-4454-909f-0e137a380820",
   "metadata": {},
   "outputs": [],
   "source": [
    "with open(file, encoding=\"utf8\") as f:\n",
    "    csvreader = csv.reader(f)\n",
    "    next(csvreader)  # skip header\n",
    "    for line in csvreader:\n",
    "        query = \"INSERT INTO users_by_session (userid, sessionid, item_in_session, artist, song_title, first_name, last_name) \"\n",
    "        query = query + \" VALUES (%s, %s, %s, %s, %s, %s, %s)\"\n",
    "        session.execute(\n",
    "            query,\n",
    "            (\n",
    "                int(line[10]),\n",
    "                int(line[8]),\n",
    "                int(line[3]),\n",
    "                line[0],\n",
    "                line[9],\n",
    "                line[1],\n",
    "                line[4],\n",
    "            ),\n",
    "        )"
   ]
  },
  {
   "cell_type": "markdown",
   "id": "9d80767f-c040-4d17-bc0c-8b62dffc17f9",
   "metadata": {},
   "source": [
    "##### **Do a SELECT to verify that the data have been inserted into each table**"
   ]
  },
  {
   "cell_type": "code",
   "execution_count": 35,
   "id": "eb2ebba6-d502-4831-99b3-2ddc817024bc",
   "metadata": {},
   "outputs": [
    {
     "name": "stdout",
     "output_type": "stream",
     "text": [
      "Row(artist='Down To The Bone', song_title=\"Keep On Keepin' On\", first_name='Sylvie', last_name='Cruz')\n",
      "Row(artist='Three Drives', song_title='Greece 2000', first_name='Sylvie', last_name='Cruz')\n",
      "Row(artist='Sebastien Tellier', song_title='Kilometer', first_name='Sylvie', last_name='Cruz')\n",
      "Row(artist='Lonnie Gordon', song_title='Catch You Baby (Steve Pitron & Max Sanna Radio Edit)', first_name='Sylvie', last_name='Cruz')\n"
     ]
    }
   ],
   "source": [
    "rows = session.execute(query2)\n",
    "for x in rows:\n",
    "    print(x)"
   ]
  },
  {
   "cell_type": "markdown",
   "id": "796356e9-05e6-4621-b4cd-7764f4693e71",
   "metadata": {},
   "source": [
    "##### **Verify from the dataframe**"
   ]
  },
  {
   "cell_type": "code",
   "execution_count": 37,
   "id": "05639732-ab67-424a-b17d-92cf578a8bf4",
   "metadata": {},
   "outputs": [
    {
     "data": {
      "text/html": [
       "<div>\n",
       "<style scoped>\n",
       "    .dataframe tbody tr th:only-of-type {\n",
       "        vertical-align: middle;\n",
       "    }\n",
       "\n",
       "    .dataframe tbody tr th {\n",
       "        vertical-align: top;\n",
       "    }\n",
       "\n",
       "    .dataframe thead th {\n",
       "        text-align: right;\n",
       "    }\n",
       "</style>\n",
       "<table border=\"1\" class=\"dataframe\">\n",
       "  <thead>\n",
       "    <tr style=\"text-align: right;\">\n",
       "      <th></th>\n",
       "      <th>artist</th>\n",
       "      <th>firstName</th>\n",
       "      <th>gender</th>\n",
       "      <th>itemInSession</th>\n",
       "      <th>lastName</th>\n",
       "      <th>length</th>\n",
       "      <th>level</th>\n",
       "      <th>location</th>\n",
       "      <th>sessionId</th>\n",
       "      <th>song</th>\n",
       "      <th>userId</th>\n",
       "    </tr>\n",
       "  </thead>\n",
       "  <tbody>\n",
       "    <tr>\n",
       "      <th>151</th>\n",
       "      <td>Down To The Bone</td>\n",
       "      <td>Sylvie</td>\n",
       "      <td>F</td>\n",
       "      <td>0</td>\n",
       "      <td>Cruz</td>\n",
       "      <td>333.76608</td>\n",
       "      <td>free</td>\n",
       "      <td>Washington-Arlington-Alexandria, DC-VA-MD-WV</td>\n",
       "      <td>182</td>\n",
       "      <td>Keep On Keepin' On</td>\n",
       "      <td>10</td>\n",
       "    </tr>\n",
       "    <tr>\n",
       "      <th>152</th>\n",
       "      <td>Three Drives</td>\n",
       "      <td>Sylvie</td>\n",
       "      <td>F</td>\n",
       "      <td>1</td>\n",
       "      <td>Cruz</td>\n",
       "      <td>411.63710</td>\n",
       "      <td>free</td>\n",
       "      <td>Washington-Arlington-Alexandria, DC-VA-MD-WV</td>\n",
       "      <td>182</td>\n",
       "      <td>Greece 2000</td>\n",
       "      <td>10</td>\n",
       "    </tr>\n",
       "    <tr>\n",
       "      <th>153</th>\n",
       "      <td>Sebastien Tellier</td>\n",
       "      <td>Sylvie</td>\n",
       "      <td>F</td>\n",
       "      <td>2</td>\n",
       "      <td>Cruz</td>\n",
       "      <td>377.73016</td>\n",
       "      <td>free</td>\n",
       "      <td>Washington-Arlington-Alexandria, DC-VA-MD-WV</td>\n",
       "      <td>182</td>\n",
       "      <td>Kilometer</td>\n",
       "      <td>10</td>\n",
       "    </tr>\n",
       "    <tr>\n",
       "      <th>154</th>\n",
       "      <td>Lonnie Gordon</td>\n",
       "      <td>Sylvie</td>\n",
       "      <td>F</td>\n",
       "      <td>3</td>\n",
       "      <td>Cruz</td>\n",
       "      <td>181.21098</td>\n",
       "      <td>free</td>\n",
       "      <td>Washington-Arlington-Alexandria, DC-VA-MD-WV</td>\n",
       "      <td>182</td>\n",
       "      <td>Catch You Baby (Steve Pitron &amp; Max Sanna Radio...</td>\n",
       "      <td>10</td>\n",
       "    </tr>\n",
       "  </tbody>\n",
       "</table>\n",
       "</div>"
      ],
      "text/plain": [
       "                artist firstName gender  itemInSession lastName     length  \\\n",
       "151   Down To The Bone    Sylvie      F              0     Cruz  333.76608   \n",
       "152       Three Drives    Sylvie      F              1     Cruz  411.63710   \n",
       "153  Sebastien Tellier    Sylvie      F              2     Cruz  377.73016   \n",
       "154      Lonnie Gordon    Sylvie      F              3     Cruz  181.21098   \n",
       "\n",
       "    level                                      location  sessionId  \\\n",
       "151  free  Washington-Arlington-Alexandria, DC-VA-MD-WV        182   \n",
       "152  free  Washington-Arlington-Alexandria, DC-VA-MD-WV        182   \n",
       "153  free  Washington-Arlington-Alexandria, DC-VA-MD-WV        182   \n",
       "154  free  Washington-Arlington-Alexandria, DC-VA-MD-WV        182   \n",
       "\n",
       "                                                  song  userId  \n",
       "151                                 Keep On Keepin' On      10  \n",
       "152                                        Greece 2000      10  \n",
       "153                                          Kilometer      10  \n",
       "154  Catch You Baby (Steve Pitron & Max Sanna Radio...      10  "
      ]
     },
     "execution_count": 37,
     "metadata": {},
     "output_type": "execute_result"
    }
   ],
   "source": [
    "#verify\n",
    "df[(df.sessionId == 182) & (df.userId == 10)]"
   ]
  },
  {
   "cell_type": "markdown",
   "id": "39852336-990b-42bc-93a2-b1ef8bd30669",
   "metadata": {},
   "source": [
    "#### <font color='blue'>Query 3. Give me every user name (first and last) in my music app history who listened to the song 'All Hands Against His Own' </font> "
   ]
  },
  {
   "cell_type": "markdown",
   "id": "e5df451c-9c7f-46eb-8fff-cefbcff196be",
   "metadata": {},
   "source": [
    "The table will contain those columns:\n",
    "- **song_name, userID** are *partition keys* to filter by.\n",
    "- *clustering columns*\n",
    "  - **first_name**\n",
    "  - **last_name**"
   ]
  },
  {
   "cell_type": "code",
   "execution_count": 40,
   "id": "656e80a9-d86f-4f45-828a-1bd2dc5df52f",
   "metadata": {},
   "outputs": [],
   "source": [
    "#Query 3:  Give me every user name (first and last) in my music app history who listened to the song 'All Hands Against His Own' \n",
    "query3 = \"SELECT first_name, last_name FROM users_by_song WHERE song_name = 'All Hands Against His Own'\""
   ]
  },
  {
   "cell_type": "code",
   "execution_count": 41,
   "id": "87db251f-aa01-490a-9e48-21062ada96e1",
   "metadata": {},
   "outputs": [],
   "source": [
    "#Create table for query 3\n",
    "session.execute(\n",
    "    \"\"\"\n",
    "    DROP TABLE IF EXISTS users_by_song\n",
    "    \"\"\"\n",
    ");\n",
    "session.execute(\n",
    "    \"\"\"\n",
    "    CREATE TABLE IF NOT EXISTS users_by_song\n",
    "    (song_name varchar, user_id int, first_name varchar, last_name varchar, PRIMARY KEY(song_name, user_id))\n",
    "    \"\"\"\n",
    ");"
   ]
  },
  {
   "cell_type": "code",
   "execution_count": 42,
   "id": "214d2c57-7c16-4afe-8e33-aa4d067b3bb1",
   "metadata": {},
   "outputs": [],
   "source": [
    "with open(file, encoding=\"utf8\") as f:\n",
    "    csvreader = csv.reader(f)\n",
    "    next(csvreader)  # skip header\n",
    "    for line in csvreader:\n",
    "        query = \"INSERT INTO users_by_song (song_name, user_id, first_name, last_name) \"\n",
    "        query = query + \" VALUES (%s, %s, %s, %s)\"\n",
    "        session.execute(query, (line[9], int(line[10]) ,line[1], line[4]))"
   ]
  },
  {
   "cell_type": "markdown",
   "id": "6349c3ff-dafd-4243-a344-37c55c77b8ad",
   "metadata": {},
   "source": [
    "##### **Verify from the dataframe**"
   ]
  },
  {
   "cell_type": "code",
   "execution_count": 44,
   "id": "9544b04f-819e-458d-ae4b-ee459e1ca72f",
   "metadata": {},
   "outputs": [
    {
     "name": "stdout",
     "output_type": "stream",
     "text": [
      "Row(first_name='Jacqueline', last_name='Lynch')\n",
      "Row(first_name='Tegan', last_name='Levine')\n",
      "Row(first_name='Sara', last_name='Johnson')\n"
     ]
    }
   ],
   "source": [
    "rows = session.execute(query3)\n",
    "for x in rows:\n",
    "    print(x)"
   ]
  },
  {
   "cell_type": "code",
   "execution_count": 45,
   "id": "0639b5c5-5f13-4685-8eaf-169457c1a419",
   "metadata": {},
   "outputs": [
    {
     "data": {
      "text/html": [
       "<div>\n",
       "<style scoped>\n",
       "    .dataframe tbody tr th:only-of-type {\n",
       "        vertical-align: middle;\n",
       "    }\n",
       "\n",
       "    .dataframe tbody tr th {\n",
       "        vertical-align: top;\n",
       "    }\n",
       "\n",
       "    .dataframe thead th {\n",
       "        text-align: right;\n",
       "    }\n",
       "</style>\n",
       "<table border=\"1\" class=\"dataframe\">\n",
       "  <thead>\n",
       "    <tr style=\"text-align: right;\">\n",
       "      <th></th>\n",
       "      <th>artist</th>\n",
       "      <th>firstName</th>\n",
       "      <th>gender</th>\n",
       "      <th>itemInSession</th>\n",
       "      <th>lastName</th>\n",
       "      <th>length</th>\n",
       "      <th>level</th>\n",
       "      <th>location</th>\n",
       "      <th>sessionId</th>\n",
       "      <th>song</th>\n",
       "      <th>userId</th>\n",
       "    </tr>\n",
       "  </thead>\n",
       "  <tbody>\n",
       "    <tr>\n",
       "      <th>219</th>\n",
       "      <td>The Black Keys</td>\n",
       "      <td>Sara</td>\n",
       "      <td>F</td>\n",
       "      <td>31</td>\n",
       "      <td>Johnson</td>\n",
       "      <td>196.91057</td>\n",
       "      <td>paid</td>\n",
       "      <td>Winston-Salem, NC</td>\n",
       "      <td>152</td>\n",
       "      <td>All Hands Against His Own</td>\n",
       "      <td>95</td>\n",
       "    </tr>\n",
       "    <tr>\n",
       "      <th>2442</th>\n",
       "      <td>The Black Keys</td>\n",
       "      <td>Jacqueline</td>\n",
       "      <td>F</td>\n",
       "      <td>50</td>\n",
       "      <td>Lynch</td>\n",
       "      <td>196.91057</td>\n",
       "      <td>paid</td>\n",
       "      <td>Atlanta-Sandy Springs-Roswell, GA</td>\n",
       "      <td>559</td>\n",
       "      <td>All Hands Against His Own</td>\n",
       "      <td>29</td>\n",
       "    </tr>\n",
       "    <tr>\n",
       "      <th>2646</th>\n",
       "      <td>The Black Keys</td>\n",
       "      <td>Tegan</td>\n",
       "      <td>F</td>\n",
       "      <td>25</td>\n",
       "      <td>Levine</td>\n",
       "      <td>196.91057</td>\n",
       "      <td>paid</td>\n",
       "      <td>Portland-South Portland, ME</td>\n",
       "      <td>611</td>\n",
       "      <td>All Hands Against His Own</td>\n",
       "      <td>80</td>\n",
       "    </tr>\n",
       "  </tbody>\n",
       "</table>\n",
       "</div>"
      ],
      "text/plain": [
       "              artist   firstName gender  itemInSession lastName     length  \\\n",
       "219   The Black Keys        Sara      F             31  Johnson  196.91057   \n",
       "2442  The Black Keys  Jacqueline      F             50    Lynch  196.91057   \n",
       "2646  The Black Keys       Tegan      F             25   Levine  196.91057   \n",
       "\n",
       "     level                           location  sessionId  \\\n",
       "219   paid                  Winston-Salem, NC        152   \n",
       "2442  paid  Atlanta-Sandy Springs-Roswell, GA        559   \n",
       "2646  paid        Portland-South Portland, ME        611   \n",
       "\n",
       "                           song  userId  \n",
       "219   All Hands Against His Own      95  \n",
       "2442  All Hands Against His Own      29  \n",
       "2646  All Hands Against His Own      80  "
      ]
     },
     "execution_count": 45,
     "metadata": {},
     "output_type": "execute_result"
    }
   ],
   "source": [
    "#verify\n",
    "df[(df.song == 'All Hands Against His Own')]"
   ]
  },
  {
   "cell_type": "markdown",
   "id": "93807f84-8cbb-4fab-b796-f83891d6df99",
   "metadata": {},
   "source": [
    "#### <font color='blue'>2.6 Drop the tables before closing out the sessions</font> "
   ]
  },
  {
   "cell_type": "code",
   "execution_count": 47,
   "id": "8bd5c9d1-f5cc-407e-8231-a4628ec53ebd",
   "metadata": {},
   "outputs": [],
   "source": [
    "session.execute(\n",
    "    \"\"\"\n",
    "    DROP TABLE IF EXISTS songs_by_session\n",
    "    \"\"\"\n",
    ");\n",
    "session.execute(\n",
    "    \"\"\"\n",
    "    DROP TABLE IF EXISTS users_by_session\n",
    "    \"\"\"\n",
    ");\n",
    "session.execute(\n",
    "    \"\"\"\n",
    "    DROP TABLE IF EXISTS users_by_song\n",
    "    \"\"\"\n",
    ");"
   ]
  },
  {
   "cell_type": "markdown",
   "id": "36fe6ead-8c1b-4289-a930-7c716d4d3cbb",
   "metadata": {},
   "source": [
    "#### <font color='blue'>2.7 Close the session and cluster connection¶</font> "
   ]
  },
  {
   "cell_type": "code",
   "execution_count": 49,
   "id": "01c0980b-e4b1-4f3c-8375-78d58da0dcd9",
   "metadata": {},
   "outputs": [],
   "source": [
    "session.shutdown()\n",
    "cluster.shutdown()"
   ]
  },
  {
   "cell_type": "code",
   "execution_count": null,
   "id": "25492094-ec42-4ab8-b091-3f105b84ca54",
   "metadata": {},
   "outputs": [],
   "source": []
  }
 ],
 "metadata": {
  "kernelspec": {
   "display_name": "Python (myenv)",
   "language": "python",
   "name": "myenv"
  },
  "language_info": {
   "codemirror_mode": {
    "name": "ipython",
    "version": 3
   },
   "file_extension": ".py",
   "mimetype": "text/x-python",
   "name": "python",
   "nbconvert_exporter": "python",
   "pygments_lexer": "ipython3",
   "version": "3.11.9"
  }
 },
 "nbformat": 4,
 "nbformat_minor": 5
}
